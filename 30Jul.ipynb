{
 "cells": [
  {
   "cell_type": "markdown",
   "id": "d4f819fb-fe0e-44c5-9f2f-b33e31c1a653",
   "metadata": {},
   "source": [
    "### Harmonic Mean\n",
    "\n",
    "- Doctor adivsed a patient to have early morning trademill for 30 mins at a speed of convientet for a week adn report to him later about speed at which he walked on the trademill everyday. Fatient recorded his speed as\n",
    "\n",
    "| Day | 1|2|3|4|5|6|7           |\n",
    "|------|--|-|--|--|--|---|---|\n",
    "| Speed| 4|3|4.5|5|3.5|4.75|4.25|"
   ]
  },
  {
   "cell_type": "code",
   "execution_count": 50,
   "id": "80e65869-9d0e-41b8-8a1b-c5e0231cb149",
   "metadata": {},
   "outputs": [],
   "source": [
    "import numpy, math, statistics\n",
    "import scipy"
   ]
  },
  {
   "cell_type": "code",
   "execution_count": 51,
   "id": "a86ad9b3-d257-458f-95e9-dc9e67474a9c",
   "metadata": {},
   "outputs": [
    {
     "data": {
      "text/plain": [
       "nan"
      ]
     },
     "execution_count": 51,
     "metadata": {},
     "output_type": "execute_result"
    }
   ],
   "source": [
    "nums = [float('nan'), numpy.nan, 5,6,8]\n",
    "num_sum = 0\n",
    "for num in nums:\n",
    "    num_sum += num\n",
    "num_sum"
   ]
  },
  {
   "cell_type": "code",
   "execution_count": 52,
   "id": "e2575692-1bb6-44ed-b9ee-35acd963acd4",
   "metadata": {},
   "outputs": [
    {
     "data": {
      "text/plain": [
       "nan"
      ]
     },
     "execution_count": 52,
     "metadata": {},
     "output_type": "execute_result"
    }
   ],
   "source": [
    "math.isnan(num_sum)\n",
    "sum(nums)"
   ]
  },
  {
   "cell_type": "code",
   "execution_count": 53,
   "id": "309cafdd-997a-43f4-967f-d834a91c3da8",
   "metadata": {},
   "outputs": [
    {
     "data": {
      "text/plain": [
       "nan"
      ]
     },
     "execution_count": 53,
     "metadata": {},
     "output_type": "execute_result"
    }
   ],
   "source": [
    "statistics.fmean(nums)"
   ]
  },
  {
   "cell_type": "markdown",
   "id": "dc15393a-5f02-4d88-afd0-1c3c20c1144d",
   "metadata": {},
   "source": [
    "__Geometric mean__"
   ]
  },
  {
   "cell_type": "code",
   "execution_count": 54,
   "id": "0c46469b-2a1a-4d14-9bff-5150ff5edd3e",
   "metadata": {},
   "outputs": [
    {
     "name": "stdout",
     "output_type": "stream",
     "text": [
      "manually calculated geometric means: 29.890561386965516\n",
      "fucntion calculated geometric mean: 29.890561386965523\n"
     ]
    }
   ],
   "source": [
    "nums = numpy.random.randint(10,50,size=10)\n",
    "product = 1\n",
    "\n",
    "for num in nums:\n",
    "    product*= num\n",
    "\n",
    "print(f\"manually calculated geometric means: {product ** (1/len(nums))}\")\n",
    "print(f\"fucntion calculated geometric mean: {scipy.stats.gmean(nums)}\")"
   ]
  },
  {
   "cell_type": "markdown",
   "id": "920b664f-1a63-401b-8b43-2b38fa3d6932",
   "metadata": {},
   "source": [
    "__Harmonic means__"
   ]
  },
  {
   "cell_type": "code",
   "execution_count": 55,
   "id": "01c338e1-afb5-44ef-8801-1c4b8b415cb9",
   "metadata": {},
   "outputs": [
    {
     "name": "stdout",
     "output_type": "stream",
     "text": [
      "manual Harminic mean: 31.796808826188116\n",
      "fucntion harmonic mean: 31.79680882618812\n"
     ]
    }
   ],
   "source": [
    "nums = numpy.random.randint(10, 50, size=10)\n",
    "\n",
    "sum_of_faction = 0\n",
    "\n",
    "for num in nums:\n",
    "    sum_of_faction += (1/num)\n",
    "\n",
    "print(f\"manual Harminic mean: {len(nums) / sum_of_faction}\")\n",
    "print(f\"fucntion harmonic mean: {scipy.stats.hmean(nums)}\")"
   ]
  },
  {
   "cell_type": "markdown",
   "id": "8036bf31-eb28-4da7-a548-8944a7704fd1",
   "metadata": {},
   "source": [
    "__Commulative Sum__"
   ]
  },
  {
   "cell_type": "code",
   "execution_count": 56,
   "id": "44d9f944-9bd3-441c-8d32-57a842c04aa5",
   "metadata": {},
   "outputs": [
    {
     "name": "stdout",
     "output_type": "stream",
     "text": [
      "matrix: [[40 43 15 34]\n",
      " [23 31 15 38]]\n",
      "cummulative sum manually: [np.int64(40), np.int64(83), np.int64(98), np.int64(132), np.int64(155), np.int64(186), np.int64(201), np.int64(239)]\n",
      "cummulative sum cumsum(matrix): [[ 40  83  98 132 155 186 201 239]]\n"
     ]
    }
   ],
   "source": [
    "matrix = numpy.matrix(numpy.random.randint(10,50, size=(2,4)))\n",
    "print(f\"matrix: {matrix}\")\n",
    "\n",
    "cummulative_sum = []\n",
    "curr_sum = 0\n",
    "for i in range(matrix.shape[0]):\n",
    "    for j in range(matrix.shape[1]):\n",
    "        curr_sum += matrix[i, j]\n",
    "        cummulative_sum.append(curr_sum)        \n",
    "\n",
    "print(f\"cummulative sum manually: {cummulative_sum}\")\n",
    "print(f\"cummulative sum cumsum(matrix): {numpy.cumsum(matrix)}\")"
   ]
  },
  {
   "cell_type": "markdown",
   "id": "e58ba56e-fa97-4814-b884-9c9b6cf7d6bd",
   "metadata": {},
   "source": [
    "__Weighted means__"
   ]
  },
  {
   "cell_type": "code",
   "execution_count": 57,
   "id": "5de6761a-f48d-4ccc-97d0-c91d302c20b1",
   "metadata": {},
   "outputs": [
    {
     "name": "stdout",
     "output_type": "stream",
     "text": [
      "manually weighted means: 77.27272727272727\n",
      "fucntion weighted means: 77.27272727272727\n"
     ]
    }
   ],
   "source": [
    "wt = [0.2, 0.3, 0.5, 0.1]\n",
    "x = [150, 50, 40, 200]\n",
    "\n",
    "wtX = 0\n",
    "weight_sum = 0\n",
    "\n",
    "for i in range(len(wt)):\n",
    "    weight_sum += wt[i]\n",
    "    wtX += (wt[i] * x[i])\n",
    "    \n",
    "weighted_mean = wtX / weight_sum\n",
    "\n",
    "print(f\"manually weighted means: {weighted_mean}\")\n",
    "print(f\"fucntion weighted means: {numpy.average(x, weights=wt)}\")"
   ]
  },
  {
   "cell_type": "code",
   "execution_count": 58,
   "id": "7ce1ae6c-d5ea-4416-97db-a047524dd836",
   "metadata": {},
   "outputs": [
    {
     "name": "stdout",
     "output_type": "stream",
     "text": [
      "nums: [100, 200, 300, 400, 500, 600, 700, 800, 900, 1000]\n",
      "sorted nums: [ 100  200  300  400  500  600  700  800  900 1000] \n",
      "\n",
      "sorted_nums.type: <class 'numpy.ndarray'>\n",
      "type(cnt): <class 'collections.Counter'>\n",
      "type(cnt.keys()) <class 'dict_keys'>\n",
      "keys: dict_keys([100, 200, 300, 400, 500, 600, 700, 800, 900, 1000])\n",
      "values: dict_values([1, 1, 1, 1, 1, 1, 1, 1, 1, 1])\n"
     ]
    }
   ],
   "source": [
    "import collections\n",
    "\n",
    "nums = [i for i in range(100, 1100, 100)]\n",
    "print(f\"nums: {nums}\")\n",
    "sorted_nums = numpy.sort(nums)\n",
    "print(f\"sorted nums: {sorted_nums} \\n\\nsorted_nums.type: {type(sorted_nums)}\")\n",
    "\n",
    "cnt = collections.Counter(nums)\n",
    "print(f\"type(cnt): {type(cnt)}\")\n",
    "print(f\"type(cnt.keys()) {type(cnt.keys())}\")\n",
    "\n",
    "keys, values = cnt.keys(), cnt.values()\n",
    "\n",
    "print(f\"keys: {keys}\")\n",
    "print(f\"values: {values}\")"
   ]
  },
  {
   "cell_type": "code",
   "execution_count": 62,
   "id": "7f27b7db-4740-44f2-955d-82d7877cecf2",
   "metadata": {},
   "outputs": [
    {
     "name": "stdout",
     "output_type": "stream",
     "text": [
      "cumsum: [dict_keys([100, 200, 300, 400, 500, 600, 700, 800, 900, 1000])]\n",
      "type(numpy.cumsum(values): <class 'numpy.ndarray'>\n"
     ]
    }
   ],
   "source": [
    "print(f\"cumsum: {numpy.cumsum(keys)}\")\n",
    "print(f\"type(numpy.cumsum(values): {type(numpy.cumsum(keys))}\")"
   ]
  },
  {
   "cell_type": "code",
   "execution_count": null,
   "id": "c07d7e7b-dbcc-4c76-8ca6-f53f67cd6fc1",
   "metadata": {},
   "outputs": [],
   "source": [
    "# Randge varience standard deviation or standard variation\n"
   ]
  },
  {
   "cell_type": "markdown",
   "id": "de7db2b5-9423-4af3-9f06-0cdd742c4aac",
   "metadata": {},
   "source": [
    "Range is difference between the largest and smallest data value in the distribution\n",
    "\n",
    "$$ R = H - L$$\n",
    "$$ \\text{coefficient of  range} = \\frac{H-L}{H+L} $$"
   ]
  }
 ],
 "metadata": {
  "kernelspec": {
   "display_name": "Python 3 (ipykernel)",
   "language": "python",
   "name": "python3"
  },
  "language_info": {
   "codemirror_mode": {
    "name": "ipython",
    "version": 3
   },
   "file_extension": ".py",
   "mimetype": "text/x-python",
   "name": "python",
   "nbconvert_exporter": "python",
   "pygments_lexer": "ipython3",
   "version": "3.12.4"
  }
 },
 "nbformat": 4,
 "nbformat_minor": 5
}
