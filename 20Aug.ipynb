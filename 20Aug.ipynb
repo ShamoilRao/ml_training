{
 "cells": [
  {
   "cell_type": "markdown",
   "id": "a6199d14-0474-4e09-8e6e-50d143b3de19",
   "metadata": {},
   "source": [
    "# Support Vector Machine and Support vector regression"
   ]
  },
  {
   "cell_type": "markdown",
   "id": "c7fb15cf-909a-43fe-8343-9c303eb3652f",
   "metadata": {},
   "source": [
    "## Key points\n",
    "\n",
    "1. __Hyperplane__: This is the line that divides simple examples according to given classes.\n",
    "2. __Decesion Boundaries__: Decesion Boundaries are the parallel line to the hyperplane with the identified distance __+$\\epsilon$__ and __-$\\epsilon$__\n",
    "3. __$\\epsilon$__ repreasent cost fucntion and our target is to maxise the value of $\\epsilon$ at the same time minimising prediction in error. Kernel fucntion is used to findout value of $\\epsilon$.\n",
    "4. __Support vector__: Data points lie on the decesion boundaries are called support vectors.\n",
    "\n",
    "$$ cost fuction = \\frac{1}{2} ||w||^2 + c\\sum_{i=0}{m} (\\epsilon_i + \\epsilon_i^*) --> min $$\n",
    "\n",
    "linear kernel\n",
    "$$ K(x_i,x_j) = x_i . x_j$$ \n",
    "\n",
    "polynomial kernel \n",
    "$$ K(x_i, x_j) = (x_i . x_j + c)^d$$\n",
    "where c is constant and d is degree of polynomial\n"
   ]
  },
  {
   "cell_type": "code",
   "execution_count": null,
   "id": "4adb3e08-bedf-488f-88d6-05559a191f5b",
   "metadata": {},
   "outputs": [],
   "source": []
  }
 ],
 "metadata": {
  "kernelspec": {
   "display_name": "Python 3 (ipykernel)",
   "language": "python",
   "name": "python3"
  },
  "language_info": {
   "codemirror_mode": {
    "name": "ipython",
    "version": 3
   },
   "file_extension": ".py",
   "mimetype": "text/x-python",
   "name": "python",
   "nbconvert_exporter": "python",
   "pygments_lexer": "ipython3",
   "version": "3.12.4"
  }
 },
 "nbformat": 4,
 "nbformat_minor": 5
}
