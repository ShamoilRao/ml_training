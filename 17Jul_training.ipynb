{
 "cells": [
  {
   "cell_type": "code",
   "execution_count": 6,
   "id": "f500e54f-7a06-4d38-bdce-fec23a08f004",
   "metadata": {},
   "outputs": [],
   "source": [
    "import pandas as pd\n",
    "import numpy as np\n",
    "import scipy.sparse"
   ]
  },
  {
   "cell_type": "code",
   "execution_count": 7,
   "id": "4cb73dce-a705-48e5-95ae-4295d3d95ce8",
   "metadata": {},
   "outputs": [],
   "source": [
    "arr = np.arange(10)"
   ]
  },
  {
   "cell_type": "code",
   "execution_count": 8,
   "id": "5d5e83e9-8502-4083-9df6-d5898990fbbc",
   "metadata": {},
   "outputs": [
    {
     "data": {
      "text/plain": [
       "np.int64(9)"
      ]
     },
     "execution_count": 8,
     "metadata": {},
     "output_type": "execute_result"
    }
   ],
   "source": [
    "# arr.max()\n",
    "np.max(arr)"
   ]
  },
  {
   "cell_type": "markdown",
   "id": "694db9e1-c13b-419c-89cf-85f7b90e7292",
   "metadata": {},
   "source": [
    "## Space matrix\n",
    "- sparce.csr_matrix(matrix or ndarray(2d))\n",
    "- space_matrix.toarray() returns decompressed ndarray\n",
    "- sparce.matrix.todense() return decompressed matrix"
   ]
  },
  {
   "cell_type": "markdown",
   "id": "2adefbf6-27cc-410b-b2cf-0ee9760c694b",
   "metadata": {},
   "source": [
    "a = np.matrix(((10, 3, 0), (3,0,0), (0,0,0)))\n",
    "print(a)\n",
    "print(f\"a.shape: {a.shape}\")\n",
    "print(f\"count non-zeros: {np.count_nonzero(a)}\")"
   ]
  },
  {
   "cell_type": "code",
   "execution_count": 15,
   "id": "c1f70fa1-3f09-4838-9773-c0402d5ee552",
   "metadata": {},
   "outputs": [
    {
     "name": "stdout",
     "output_type": "stream",
     "text": [
      "CompressedA: <Compressed Sparse Row sparse matrix of dtype 'int64'\n",
      "\twith 3 stored elements and shape (3, 3)>\n",
      "  Coords\tValues\n",
      "  (0, 0)\t10\n",
      "  (0, 1)\t3\n",
      "  (1, 0)\t3\n",
      "type: <class 'scipy.sparse._csr.csr_matrix'>\n"
     ]
    }
   ],
   "source": [
    "compressedA = scipy.sparse.csr_matrix(a)\n",
    "print(f\"CompressedA: {compressedA}\\ntype: {type(compressedA)}\")"
   ]
  },
  {
   "cell_type": "code",
   "execution_count": 16,
   "id": "0447d42c-27f2-4939-83aa-72585e305541",
   "metadata": {},
   "outputs": [
    {
     "name": "stdout",
     "output_type": "stream",
     "text": [
      "recoveredA: [[10  3  0]\n",
      " [ 3  0  0]\n",
      " [ 0  0  0]]\n",
      "type: <class 'numpy.ndarray'>\n"
     ]
    }
   ],
   "source": [
    "recoveredA = compressedA.toarray()\n",
    "print(f\"recoveredA: {recoveredA}\")\n",
    "print(f\"type: {type(recoveredA)}\")"
   ]
  },
  {
   "cell_type": "code",
   "execution_count": 17,
   "id": "38a78572-fe01-44e4-9cb4-50d9c36b1eec",
   "metadata": {},
   "outputs": [
    {
     "name": "stdout",
     "output_type": "stream",
     "text": [
      "recoveredA: [[10  3  0]\n",
      " [ 3  0  0]\n",
      " [ 0  0  0]]\n",
      " type: <class 'numpy.matrix'>\n"
     ]
    }
   ],
   "source": [
    "recoveredA = compressedA.todense()\n",
    "print(f\"recoveredA: {recoveredA}\\n type: {type(recoveredA)}\")"
   ]
  },
  {
   "cell_type": "markdown",
   "id": "afbb86e0-c956-4e74-bb5e-ecbf91302e56",
   "metadata": {},
   "source": [
    "## Pandas \n",
    "### Series\n"
   ]
  },
  {
   "cell_type": "code",
   "execution_count": 37,
   "id": "e437edf5-b58a-48dd-9245-ae0269df71f6",
   "metadata": {},
   "outputs": [
    {
     "name": "stdout",
     "output_type": "stream",
     "text": [
      "lables: ['a', 'b', 'e']\n",
      "d: {'a': 10, 'b': 20, 'e': 30}\n"
     ]
    }
   ],
   "source": [
    "labels = ['a','b','e']\n",
    "print(f\"lables: {lables}\")\n",
    "\n",
    "my_data = [10, 20, 30]\n",
    "np.array(my_data)\n",
    "\n",
    "d = dict(zip(lables,my_data))\n",
    "print(f\"d: {d}\")"
   ]
  },
  {
   "cell_type": "markdown",
   "id": "8f1e2878-afd6-4dab-9e43-04de9d9b1ff9",
   "metadata": {},
   "source": [
    "- Works with both list and dictionary"
   ]
  },
  {
   "cell_type": "code",
   "execution_count": 41,
   "id": "9edcd6d5-9409-42cb-a6f9-4c7fd17fa5f4",
   "metadata": {},
   "outputs": [
    {
     "data": {
      "text/plain": [
       "a    10\n",
       "b    20\n",
       "e    30\n",
       "dtype: int64"
      ]
     },
     "execution_count": 41,
     "metadata": {},
     "output_type": "execute_result"
    }
   ],
   "source": [
    "# df = pd.Series(data = my_data, index=labels)\n",
    "s = pd.Series(my_data, labels)\n",
    "s \n",
    "s"
   ]
  },
  {
   "cell_type": "code",
   "execution_count": 45,
   "id": "723add91-d9ab-4712-89b4-3e4d189716b6",
   "metadata": {},
   "outputs": [
    {
     "name": "stdout",
     "output_type": "stream",
     "text": [
      "df: a    10\n",
      "b    20\n",
      "e    30\n",
      "dtype: int64\n"
     ]
    },
    {
     "data": {
      "text/plain": [
       "pandas.core.series.Series"
      ]
     },
     "execution_count": 45,
     "metadata": {},
     "output_type": "execute_result"
    }
   ],
   "source": [
    "df = pd.Series(d)\n",
    "print(f\"df: {df}\")\n",
    "type(df)"
   ]
  },
  {
   "cell_type": "code",
   "execution_count": 47,
   "id": "6ed42515-f154-4111-9b88-c757b6de0776",
   "metadata": {},
   "outputs": [
    {
     "data": {
      "text/plain": [
       "0      <built-in function sum>\n",
       "1    <built-in function print>\n",
       "2      <built-in function len>\n",
       "dtype: object"
      ]
     },
     "execution_count": 47,
     "metadata": {},
     "output_type": "execute_result"
    }
   ],
   "source": [
    "# You can also convert the functions into series\n",
    "pd.Series([sum, print, len])"
   ]
  },
  {
   "cell_type": "code",
   "execution_count": 57,
   "id": "30325a3c-fd50-49eb-8048-8ac3487b3b51",
   "metadata": {},
   "outputs": [
    {
     "data": {
      "text/plain": [
       "a    1\n",
       "b    2\n",
       "c    3\n",
       "c    4\n",
       "dtype: int64"
      ]
     },
     "execution_count": 57,
     "metadata": {},
     "output_type": "execute_result"
    }
   ],
   "source": [
    "series1 = pd.Series([1,2,3,4],['a','b','c', 'c'])\n",
    "series2 = pd.Series([1,2,3,4],['a','bb','c', 'c'])\n",
    "series1"
   ]
  },
  {
   "cell_type": "code",
   "execution_count": 58,
   "id": "9d69daf4-67de-4094-b4d7-e4c939976cb1",
   "metadata": {},
   "outputs": [
    {
     "name": "stdout",
     "output_type": "stream",
     "text": [
      "a     2.0\n",
      "b     NaN\n",
      "bb    NaN\n",
      "c     6.0\n",
      "c     7.0\n",
      "c     7.0\n",
      "c     8.0\n",
      "dtype: float64\n"
     ]
    }
   ],
   "source": [
    "print(series1 + series2)"
   ]
  },
  {
   "cell_type": "markdown",
   "id": "58137970-0477-4b36-9ae9-76cab74925c5",
   "metadata": {},
   "source": [
    "## Data frame\n",
    "- Df are more like excel, having rows and cols\n",
    "- Where column is pandas series"
   ]
  },
  {
   "cell_type": "code",
   "execution_count": 65,
   "id": "9a2c3717-3293-4e1f-b7e0-55c76fe463aa",
   "metadata": {},
   "outputs": [
    {
     "name": "stdout",
     "output_type": "stream",
     "text": [
      "          K         L         M         J\n",
      "A  0.999113  0.530056  0.002992  0.391065\n",
      "B  0.603702 -1.681669  0.848197  0.296070\n",
      "C -0.669739 -1.084484  0.320881  0.652806\n",
      "D  1.654424 -0.080905  0.520208 -0.020171\n",
      "E  0.280381  0.719766  0.681269  1.703602\n"
     ]
    },
    {
     "data": {
      "text/plain": [
       "pandas.core.frame.DataFrame"
      ]
     },
     "execution_count": 65,
     "metadata": {},
     "output_type": "execute_result"
    }
   ],
   "source": [
    "df = pd.DataFrame(np.random.randn(5,4), ['A', 'B', 'C', 'D', 'E'], ['K', 'L', 'M', 'J'])\n",
    "print(df)\n",
    "type(df)"
   ]
  },
  {
   "cell_type": "code",
   "execution_count": 69,
   "id": "81e23a05-c477-47d8-af18-77f76388a907",
   "metadata": {},
   "outputs": [
    {
     "data": {
      "text/plain": [
       "array([[0.77132064, 0.02075195, 0.63364823, 0.74880388],\n",
       "       [0.49850701, 0.22479665, 0.19806286, 0.76053071],\n",
       "       [0.16911084, 0.08833981, 0.68535982, 0.95339335],\n",
       "       [0.00394827, 0.51219226, 0.81262096, 0.61252607],\n",
       "       [0.72175532, 0.29187607, 0.91777412, 0.71457578]])"
      ]
     },
     "execution_count": 69,
     "metadata": {},
     "output_type": "execute_result"
    }
   ],
   "source": [
    "np.random.seed(10)\n",
    "np.random.rand(5,4)"
   ]
  },
  {
   "cell_type": "code",
   "execution_count": 71,
   "id": "6589b3dd-9654-4f75-9275-e6d645bf8ee0",
   "metadata": {},
   "outputs": [
    {
     "data": {
      "text/plain": [
       "array([[0.77132064, 0.02075195, 0.63364823, 0.74880388],\n",
       "       [0.49850701, 0.22479665, 0.19806286, 0.76053071],\n",
       "       [0.16911084, 0.08833981, 0.68535982, 0.95339335],\n",
       "       [0.00394827, 0.51219226, 0.81262096, 0.61252607],\n",
       "       [0.72175532, 0.29187607, 0.91777412, 0.71457578]])"
      ]
     },
     "execution_count": 71,
     "metadata": {},
     "output_type": "execute_result"
    }
   ],
   "source": [
    "np.random.seed(10)\n",
    "np.random.rand(5,4)"
   ]
  },
  {
   "cell_type": "code",
   "execution_count": 75,
   "id": "7052ac77-30e6-487f-bb16-6259f57d9b21",
   "metadata": {},
   "outputs": [],
   "source": [
    "df['K'] = df['J'] + df['M']"
   ]
  },
  {
   "cell_type": "code",
   "execution_count": 76,
   "id": "2003275a-730a-4645-901d-510f260afbdb",
   "metadata": {},
   "outputs": [
    {
     "data": {
      "text/plain": [
       "A    0.394058\n",
       "B    1.144266\n",
       "C    0.973687\n",
       "D    0.500037\n",
       "E    2.384871\n",
       "Name: K, dtype: float64"
      ]
     },
     "execution_count": 76,
     "metadata": {},
     "output_type": "execute_result"
    }
   ],
   "source": [
    "df['K']"
   ]
  },
  {
   "cell_type": "code",
   "execution_count": 77,
   "id": "d52601dd-9d21-426f-9e43-e82e68051507",
   "metadata": {},
   "outputs": [
    {
     "data": {
      "text/html": [
       "<div>\n",
       "<style scoped>\n",
       "    .dataframe tbody tr th:only-of-type {\n",
       "        vertical-align: middle;\n",
       "    }\n",
       "\n",
       "    .dataframe tbody tr th {\n",
       "        vertical-align: top;\n",
       "    }\n",
       "\n",
       "    .dataframe thead th {\n",
       "        text-align: right;\n",
       "    }\n",
       "</style>\n",
       "<table border=\"1\" class=\"dataframe\">\n",
       "  <thead>\n",
       "    <tr style=\"text-align: right;\">\n",
       "      <th></th>\n",
       "      <th>K</th>\n",
       "      <th>L</th>\n",
       "      <th>M</th>\n",
       "    </tr>\n",
       "  </thead>\n",
       "  <tbody>\n",
       "    <tr>\n",
       "      <th>A</th>\n",
       "      <td>0.394058</td>\n",
       "      <td>0.530056</td>\n",
       "      <td>0.002992</td>\n",
       "    </tr>\n",
       "    <tr>\n",
       "      <th>B</th>\n",
       "      <td>1.144266</td>\n",
       "      <td>-1.681669</td>\n",
       "      <td>0.848197</td>\n",
       "    </tr>\n",
       "    <tr>\n",
       "      <th>C</th>\n",
       "      <td>0.973687</td>\n",
       "      <td>-1.084484</td>\n",
       "      <td>0.320881</td>\n",
       "    </tr>\n",
       "    <tr>\n",
       "      <th>D</th>\n",
       "      <td>0.500037</td>\n",
       "      <td>-0.080905</td>\n",
       "      <td>0.520208</td>\n",
       "    </tr>\n",
       "    <tr>\n",
       "      <th>E</th>\n",
       "      <td>2.384871</td>\n",
       "      <td>0.719766</td>\n",
       "      <td>0.681269</td>\n",
       "    </tr>\n",
       "  </tbody>\n",
       "</table>\n",
       "</div>"
      ],
      "text/plain": [
       "          K         L         M\n",
       "A  0.394058  0.530056  0.002992\n",
       "B  1.144266 -1.681669  0.848197\n",
       "C  0.973687 -1.084484  0.320881\n",
       "D  0.500037 -0.080905  0.520208\n",
       "E  2.384871  0.719766  0.681269"
      ]
     },
     "execution_count": 77,
     "metadata": {},
     "output_type": "execute_result"
    }
   ],
   "source": [
    "df = df.drop('J', axis=1)\n",
    "df"
   ]
  },
  {
   "cell_type": "code",
   "execution_count": 78,
   "id": "3562d963-d8ad-4b42-bce0-7e26f8498c78",
   "metadata": {},
   "outputs": [
    {
     "data": {
      "text/html": [
       "<div>\n",
       "<style scoped>\n",
       "    .dataframe tbody tr th:only-of-type {\n",
       "        vertical-align: middle;\n",
       "    }\n",
       "\n",
       "    .dataframe tbody tr th {\n",
       "        vertical-align: top;\n",
       "    }\n",
       "\n",
       "    .dataframe thead th {\n",
       "        text-align: right;\n",
       "    }\n",
       "</style>\n",
       "<table border=\"1\" class=\"dataframe\">\n",
       "  <thead>\n",
       "    <tr style=\"text-align: right;\">\n",
       "      <th></th>\n",
       "      <th>K</th>\n",
       "      <th>L</th>\n",
       "      <th>M</th>\n",
       "    </tr>\n",
       "  </thead>\n",
       "  <tbody>\n",
       "    <tr>\n",
       "      <th>A</th>\n",
       "      <td>0.394058</td>\n",
       "      <td>0.530056</td>\n",
       "      <td>0.002992</td>\n",
       "    </tr>\n",
       "    <tr>\n",
       "      <th>B</th>\n",
       "      <td>1.144266</td>\n",
       "      <td>-1.681669</td>\n",
       "      <td>0.848197</td>\n",
       "    </tr>\n",
       "    <tr>\n",
       "      <th>C</th>\n",
       "      <td>0.973687</td>\n",
       "      <td>-1.084484</td>\n",
       "      <td>0.320881</td>\n",
       "    </tr>\n",
       "    <tr>\n",
       "      <th>D</th>\n",
       "      <td>0.500037</td>\n",
       "      <td>-0.080905</td>\n",
       "      <td>0.520208</td>\n",
       "    </tr>\n",
       "  </tbody>\n",
       "</table>\n",
       "</div>"
      ],
      "text/plain": [
       "          K         L         M\n",
       "A  0.394058  0.530056  0.002992\n",
       "B  1.144266 -1.681669  0.848197\n",
       "C  0.973687 -1.084484  0.320881\n",
       "D  0.500037 -0.080905  0.520208"
      ]
     },
     "execution_count": 78,
     "metadata": {},
     "output_type": "execute_result"
    }
   ],
   "source": [
    "df.drop('E', axis=0)"
   ]
  },
  {
   "cell_type": "code",
   "execution_count": 79,
   "id": "30471888-e84b-4117-925d-e587f6bdaeab",
   "metadata": {},
   "outputs": [
    {
     "data": {
      "text/html": [
       "<div>\n",
       "<style scoped>\n",
       "    .dataframe tbody tr th:only-of-type {\n",
       "        vertical-align: middle;\n",
       "    }\n",
       "\n",
       "    .dataframe tbody tr th {\n",
       "        vertical-align: top;\n",
       "    }\n",
       "\n",
       "    .dataframe thead th {\n",
       "        text-align: right;\n",
       "    }\n",
       "</style>\n",
       "<table border=\"1\" class=\"dataframe\">\n",
       "  <thead>\n",
       "    <tr style=\"text-align: right;\">\n",
       "      <th></th>\n",
       "      <th>K</th>\n",
       "      <th>L</th>\n",
       "      <th>M</th>\n",
       "    </tr>\n",
       "  </thead>\n",
       "  <tbody>\n",
       "    <tr>\n",
       "      <th>A</th>\n",
       "      <td>0.394058</td>\n",
       "      <td>0.530056</td>\n",
       "      <td>0.002992</td>\n",
       "    </tr>\n",
       "    <tr>\n",
       "      <th>B</th>\n",
       "      <td>1.144266</td>\n",
       "      <td>-1.681669</td>\n",
       "      <td>0.848197</td>\n",
       "    </tr>\n",
       "    <tr>\n",
       "      <th>C</th>\n",
       "      <td>0.973687</td>\n",
       "      <td>-1.084484</td>\n",
       "      <td>0.320881</td>\n",
       "    </tr>\n",
       "    <tr>\n",
       "      <th>D</th>\n",
       "      <td>0.500037</td>\n",
       "      <td>-0.080905</td>\n",
       "      <td>0.520208</td>\n",
       "    </tr>\n",
       "    <tr>\n",
       "      <th>E</th>\n",
       "      <td>2.384871</td>\n",
       "      <td>0.719766</td>\n",
       "      <td>0.681269</td>\n",
       "    </tr>\n",
       "  </tbody>\n",
       "</table>\n",
       "</div>"
      ],
      "text/plain": [
       "          K         L         M\n",
       "A  0.394058  0.530056  0.002992\n",
       "B  1.144266 -1.681669  0.848197\n",
       "C  0.973687 -1.084484  0.320881\n",
       "D  0.500037 -0.080905  0.520208\n",
       "E  2.384871  0.719766  0.681269"
      ]
     },
     "execution_count": 79,
     "metadata": {},
     "output_type": "execute_result"
    }
   ],
   "source": [
    "df"
   ]
  },
  {
   "cell_type": "code",
   "execution_count": 80,
   "id": "745a0d8d-c082-4b27-813e-ccab31b309dd",
   "metadata": {},
   "outputs": [
    {
     "data": {
      "text/plain": [
       "(5, 3)"
      ]
     },
     "execution_count": 80,
     "metadata": {},
     "output_type": "execute_result"
    }
   ],
   "source": [
    "df.shape"
   ]
  },
  {
   "cell_type": "code",
   "execution_count": 81,
   "id": "07a76905-2d0a-4ecc-9302-72fbce11a93c",
   "metadata": {},
   "outputs": [],
   "source": [
    "df.drop('K', axis=1, inplace=True)"
   ]
  },
  {
   "cell_type": "code",
   "execution_count": 82,
   "id": "5bd4554e-e110-4814-a0d7-15025e81a158",
   "metadata": {},
   "outputs": [
    {
     "data": {
      "text/html": [
       "<div>\n",
       "<style scoped>\n",
       "    .dataframe tbody tr th:only-of-type {\n",
       "        vertical-align: middle;\n",
       "    }\n",
       "\n",
       "    .dataframe tbody tr th {\n",
       "        vertical-align: top;\n",
       "    }\n",
       "\n",
       "    .dataframe thead th {\n",
       "        text-align: right;\n",
       "    }\n",
       "</style>\n",
       "<table border=\"1\" class=\"dataframe\">\n",
       "  <thead>\n",
       "    <tr style=\"text-align: right;\">\n",
       "      <th></th>\n",
       "      <th>L</th>\n",
       "      <th>M</th>\n",
       "    </tr>\n",
       "  </thead>\n",
       "  <tbody>\n",
       "    <tr>\n",
       "      <th>A</th>\n",
       "      <td>0.530056</td>\n",
       "      <td>0.002992</td>\n",
       "    </tr>\n",
       "    <tr>\n",
       "      <th>B</th>\n",
       "      <td>-1.681669</td>\n",
       "      <td>0.848197</td>\n",
       "    </tr>\n",
       "    <tr>\n",
       "      <th>C</th>\n",
       "      <td>-1.084484</td>\n",
       "      <td>0.320881</td>\n",
       "    </tr>\n",
       "    <tr>\n",
       "      <th>D</th>\n",
       "      <td>-0.080905</td>\n",
       "      <td>0.520208</td>\n",
       "    </tr>\n",
       "    <tr>\n",
       "      <th>E</th>\n",
       "      <td>0.719766</td>\n",
       "      <td>0.681269</td>\n",
       "    </tr>\n",
       "  </tbody>\n",
       "</table>\n",
       "</div>"
      ],
      "text/plain": [
       "          L         M\n",
       "A  0.530056  0.002992\n",
       "B -1.681669  0.848197\n",
       "C -1.084484  0.320881\n",
       "D -0.080905  0.520208\n",
       "E  0.719766  0.681269"
      ]
     },
     "execution_count": 82,
     "metadata": {},
     "output_type": "execute_result"
    }
   ],
   "source": [
    "df"
   ]
  },
  {
   "cell_type": "code",
   "execution_count": null,
   "id": "83d46d67-2e33-4450-9dea-fb19d86008d0",
   "metadata": {},
   "outputs": [],
   "source": []
  }
 ],
 "metadata": {
  "kernelspec": {
   "display_name": "Python 3 (ipykernel)",
   "language": "python",
   "name": "python3"
  },
  "language_info": {
   "codemirror_mode": {
    "name": "ipython",
    "version": 3
   },
   "file_extension": ".py",
   "mimetype": "text/x-python",
   "name": "python",
   "nbconvert_exporter": "python",
   "pygments_lexer": "ipython3",
   "version": "3.12.4"
  }
 },
 "nbformat": 4,
 "nbformat_minor": 5
}
