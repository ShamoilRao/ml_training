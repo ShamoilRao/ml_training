{
 "cells": [
  {
   "cell_type": "markdown",
   "id": "6b63c96d-90d9-4fbe-974c-8abf2335166a",
   "metadata": {},
   "source": [
    "# Binomial Distribution\n",
    "\n",
    "### __Probability mass fucntion__\n",
    " $$ P(X = x,n,p) = {}^{n}C_x p^x q^{n-x} = \\frac{(n)!}{(x)! (n-x)!} p^x q^{n-x} $$\n",
    "\n",
    "\n",
    "  - p is the probability of success in a trial.\n",
    "  - q is the probability of failure in a trial.\n",
    "  $q=1-p$\n",
    "    - X is the random vaiable representing the number of success\n",
    "  probability of having x successes in n trials if the probability of successs is p\n",
    "\n",
    "### Any expreriment is as termed as __bernoli process__, if\n",
    "  - there are only two mutually exclusive and collective exhustive event\n",
    "  - the probability of occrence of the evernt  are same in all trails\n",
    "  - all observations are independent "
   ]
  },
  {
   "cell_type": "markdown",
   "id": "d5cc22f8-99a0-4ee3-be0f-2909ff52bb73",
   "metadata": {},
   "source": [
    "__Q1__. A coin is tossed 10 times, what is the probability of having:\n",
    "1. zero head\n",
    "2. three heads\n",
    "3. atmost 2 heads\n",
    "4. atleas 3 heads\n",
    "\n",
    "__ans__  \n",
    "1. x = 0\n",
    "   $$   \\frac{(10)!}{(0)! (10-0)!} p^0 q^{10-0} $$\n",
    "2. x = 3\n",
    "      $$   \\frac{(10)!}{(3)! (10-3)!} p^3 q^{10-3} $$\n",
    "\n",
    "3. x = 0,1,2 (cummulative sum)\n",
    "      $$  \\sum_{x=0}^{2} \\frac{(10)!}{(x)! (10-x)!} p^x q^{10-x} $$\n",
    "4. x = 3,4,5,6,7,8,9,10\n",
    "   $$  \\sum_{x=3}^{10} \\frac{(10)!}{(x)! (10-x)!} p^x q^{10-x} $$"
   ]
  },
  {
   "cell_type": "markdown",
   "id": "1dfb34b3-056d-42e2-9ead-d915cbfb513e",
   "metadata": {},
   "source": [
    "__Q2.__ Compute the probability of getting 5 heads in 10 flips a coin using binormial distribution\n",
    "\n",
    "__ans__\n",
    "x = 5\n",
    "\n",
    "$$\\frac{(10)!}{(5)! (10-5)!} p^5 q^{10-5}$$\n"
   ]
  },
  {
   "cell_type": "code",
   "execution_count": 12,
   "id": "15db8488-3fa5-47ef-a1f6-ab527d00106e",
   "metadata": {},
   "outputs": [],
   "source": [
    "import scipy.stats \n",
    "import numpy, matplotlib.pyplot, pandas"
   ]
  },
  {
   "cell_type": "code",
   "execution_count": 4,
   "id": "565d1ba9-6131-4492-8a91-af2a2a606a1b",
   "metadata": {},
   "outputs": [
    {
     "name": "stdout",
     "output_type": "stream",
     "text": [
      "Probability of exactly 5 heads: 0.246094\n"
     ]
    }
   ],
   "source": [
    "\n",
    "\n",
    "n = 10\n",
    "p = 0.5\n",
    "k = 5\n",
    "\n",
    "prob = scipy.stats.binom.pmf(k,n,p) # probabily mass function\n",
    "print(f\"Probability of exactly {k} heads: {prob:4f}\")"
   ]
  },
  {
   "cell_type": "code",
   "execution_count": 6,
   "id": "21b3fcf3-ea4c-4bb3-8797-55192887338a",
   "metadata": {},
   "outputs": [
    {
     "data": {
      "text/plain": [
       "np.float64(0.623046875)"
      ]
     },
     "execution_count": 6,
     "metadata": {},
     "output_type": "execute_result"
    }
   ],
   "source": [
    "scipy.stats.binom.cdf(k, n, p) # commulative destribution"
   ]
  },
  {
   "cell_type": "markdown",
   "id": "5801784a-3c6c-475a-9074-1235968e661c",
   "metadata": {},
   "source": [
    "# Possion Distribution\n",
    "- This distribution usually represent the no. of occurences of an event in one unit of time\n",
    "- __Eg:__ arrival rate of customers in a bank\n",
    "\n",
    "$$ P(X, \\mu) =  \\frac{e^{-\\mu} \\mu^{X}}{(X)!} $$\n",
    "\n",
    "\n",
    "$$ F(X, \\mu) = \\sum_{i=0}^X \\frac{e^{-\\mu}\\mu^i}{(i)!}$$\n",
    "\n",
    "$\\mu: mean$"
   ]
  },
  {
   "cell_type": "markdown",
   "id": "8f09093d-082c-4cd6-9856-32004cc63c85",
   "metadata": {},
   "source": [
    "__q1__. The arrival rate of customer at bank counter following possion distribution with means arrival rate of 4 per 10 min. Find probabiliyt of: \n",
    "1. Exactly 1 customer will arrive in 10 min time interval\n",
    "2. Exactly 2 customer arrive in 10 min time interval\n",
    "3. Atmost 2 customer arrive in 10 min time interval\n",
    "4. Atleast 3 customer will arrive in 10 min time interval\n",
    "\n",
    "__ans__\n",
    "1. $$\\frac{e^{-\\mu} \\mu^{1}}{(1)!}$$\n",
    "2. $$\\frac{e^{-\\mu} \\mu^{2}}{(2)!}$$\n",
    "3. $$\\sum_{i=0}^2 \\frac{e^{-\\mu}\\mu^i}{(i)!}$$\n",
    "4. $$ 1- \\sum_{i=0}^3 \\frac{e^{-\\mu}\\mu^i}{(i)!} $$"
   ]
  },
  {
   "cell_type": "code",
   "execution_count": 9,
   "id": "9eb43cb8-95c8-4cab-9b86-36a74f3636e2",
   "metadata": {},
   "outputs": [
    {
     "name": "stdout",
     "output_type": "stream",
     "text": [
      "Exactly 1 customer will arrive in 10 min time interval: 0.07326255555493673\n",
      "Exactly 2 customer will arrive in 10 min time interval: 0.07326255555493673\n",
      "Atmost 2 customer arrive in 10 min time interval: 0.23810330555354436\n",
      "Atleast 3 customer will arrive in 10 min time interval: 0.7618966944464556\n"
     ]
    }
   ],
   "source": [
    "rate = 4\n",
    "ans1 = scipy.stats.poisson.pmf(1,rate)\n",
    "ans2 = scipy.stats.poisson.pmf(1,rate)\n",
    "ans3 = scipy.stats.poisson.cdf(2,rate)\n",
    "ans4 = 1 - scipy.stats.poisson.cdf(2,rate)\n",
    "\n",
    "print(f\"Exactly 1 customer will arrive in 10 min time interval: {ans1}\")\n",
    "print(f\"Exactly 2 customer will arrive in 10 min time interval: {ans2}\")\n",
    "print(f\"Atmost 2 customer arrive in 10 min time interval: {ans3}\")\n",
    "print(f\"Atleast 3 customer will arrive in 10 min time interval: {ans4}\")"
   ]
  },
  {
   "cell_type": "markdown",
   "id": "ea32c9ee-ff25-4788-931b-7b0463171e46",
   "metadata": {},
   "source": [
    "Uniform distribution random variable on zero constant value and proabability lie inside defined range and xp have zero value outside of this interval\n",
    "\n",
    "$$ P(X) = \\begin{cases}\n",
    "\\frac{1}{b-a} ;\\text{a <= X <= b}\\\\\n",
    "0 ;\\text{  for x < a or X > b} \\\\\n",
    "\\end{cases}$$"
   ]
  },
  {
   "cell_type": "markdown",
   "id": "ee2b816c-311e-4ade-95be-4dc4cae9fa52",
   "metadata": {},
   "source": [
    "Five hundred have random somes from uniform distribution between 0 and 10, plot the histogram of the samples and overlay the uniform probability density fucntion"
   ]
  },
  {
   "cell_type": "code",
   "execution_count": 23,
   "id": "f6fb2532-18df-438b-82bd-5eec3f8f617b",
   "metadata": {},
   "outputs": [
    {
     "data": {
      "text/plain": [
       "(array([ 98., 105., 104., 106.,  80., 109., 105.,  99.,  98.,  96.]),\n",
       " array([2.42527970e-04, 1.00012300e-01, 1.99782071e-01, 2.99551843e-01,\n",
       "        3.99321614e-01, 4.99091386e-01, 5.98861157e-01, 6.98630929e-01,\n",
       "        7.98400700e-01, 8.98170472e-01, 9.97940243e-01]),\n",
       " <BarContainer object of 10 artists>)"
      ]
     },
     "execution_count": 23,
     "metadata": {},
     "output_type": "execute_result"
    },
    {
     "data": {
      "image/png": "[encoded data removed]",
      "text/plain": [
       "<Figure size 640x480 with 1 Axes>"
      ]
     },
     "metadata": {},
     "output_type": "display_data"
    }
   ],
   "source": [
    "nums = numpy.random.randint(10, 50, size=10)\n",
    "data = numpy.linspace(scipy.stats.uniform.ppf(0.01),\n",
    "\n",
    "                scipy.stats.uniform.ppf(0.99), 100)\n",
    "r = scipy.stats.uniform.rvs(size=1000)\n",
    "matplotlib.pyplot.hist(r)"
   ]
  },
  {
   "cell_type": "markdown",
   "id": "f4abe6de-1c87-4a4a-9327-1b838103f7c5",
   "metadata": {},
   "source": [
    "# Exponential Probability Distributions\n",
    "\n",
    "- A continouous random variable X is said to have an exponential($\\lambda$) distribution if it has probability density fucntion\n",
    "\n",
    "  $$ P(X) = \\begin{cases}\n",
    "  \\lambda e^{-{X}{\\lambda}}; \\text{X >= 0} \\\\\n",
    "  0; \\text{X<0}\n",
    "  \\end{cases}$$\n",
    "\n",
    "  where $\\lambda = \\frac{1}{\\mu}$ inverse of mean"
   ]
  },
  {
   "cell_type": "markdown",
   "id": "9815a242-9979-48ef-8055-b0d9e30e41e1",
   "metadata": {},
   "source": [
    "__q1__ In an international air port servie time of terminal  follows exponenetial distribition. The service rate of terminal serving clinent is 30 per day.Find the probability that is service time of terminal \n",
    "\n",
    "1. is less than 0.5 hours\n",
    "2. more than 0.7 hours\n",
    "\n",
    "__q2__.Compute the probability of the waiting more than three time units in an exponential distribution with rate 1.5"
   ]
  },
  {
   "cell_type": "code",
   "execution_count": 27,
   "id": "c11e899a-b7e4-4956-8fe5-7f5796e7776f",
   "metadata": {},
   "outputs": [
    {
     "data": {
      "text/plain": [
       "<scipy.stats._distn_infrastructure.rv_continuous_frozen at 0x7f17fa2e3380>"
      ]
     },
     "execution_count": 27,
     "metadata": {},
     "output_type": "execute_result"
    }
   ],
   "source": [
    "# qustion 2 answer\n",
    "\n",
    "dis = scipy.stats.expon(scale=(1/1.5))\n",
    "dis"
   ]
  },
  {
   "cell_type": "markdown",
   "id": "886c563f-0571-47e9-8f0f-9f6a62e419a8",
   "metadata": {},
   "source": [
    "# Normal distribution\n",
    "$$ f(x) = \\frac{1}{\\sigma\\sqrt{2\\pi}} e^{-\\frac{(x-\\mu)^2}{2\\sigma^2}}\n",
    " $$\n",
    "__question 1__. Generate value 50 values of those are normally distributted and plot the historgram these points bin size = 5"
   ]
  },
  {
   "cell_type": "code",
   "execution_count": 33,
   "id": "ef2daf71-9b4d-464a-a3be-0530afc47015",
   "metadata": {},
   "outputs": [
    {
     "data": {
      "image/png": "[encoded data removed]",
      "text/plain": [
       "<Figure size 640x480 with 1 Axes>"
      ]
     },
     "metadata": {},
     "output_type": "display_data"
    }
   ],
   "source": [
    "nums = numpy.random.randn(50)\n",
    "matplotlib.pyplot.hist(nums, bins=5)\n",
    "matplotlib.pyplot.show()"
   ]
  },
  {
   "cell_type": "markdown",
   "id": "7a6f347e-f3e1-4e77-bfb1-5df49051ef13",
   "metadata": {},
   "source": [
    "__ques1__ 100 random samples with mean = 5, standar deviation is 10. Plit hist from the sampels and form the probabity desntiy fucntion"
   ]
  },
  {
   "cell_type": "code",
   "execution_count": 49,
   "id": "340cdb34-200f-4b5b-9fcd-75abf7023ea1",
   "metadata": {},
   "outputs": [
    {
     "name": "stdout",
     "output_type": "stream",
     "text": [
      "xmin: -24.441445265300892  \n",
      " xmax: 29.75342489364274\n"
     ]
    },
    {
     "data": {
      "image/png": "[encoded data removed]",
      "text/plain": [
       "<Figure size 640x480 with 1 Axes>"
      ]
     },
     "metadata": {},
     "output_type": "display_data"
    }
   ],
   "source": [
    "#  Plot random distribution\n",
    "\n",
    "mu = 5 # mean\n",
    "sigma = 10 # standard deviation\n",
    "data = numpy.random.normal(loc=mu, scale=sigma, size=100)\n",
    "\n",
    "matplotlib.pyplot.hist(data, density=True, alpha=0.6, bins=30)\n",
    "matplotlib.pyplot.title(\"Normal distribution\")\n",
    "\n",
    "\n",
    "xmin, xmax = matplotlib.pyplot.xlim()\n",
    "print(f\"xmin: {xmin}  \\n xmax: {xmax}\")\n",
    "\n",
    "x = numpy.linspace(xmin, xmax, 100)\n",
    "\n",
    "p = scipy.stats.norm.pdf(x, loc=mu, scale=sigma)\n",
    "\n",
    "matplotlib.pyplot.plot(x, p, 'k',linewidth=2)\n",
    "\n",
    "matplotlib.pyplot.show()"
   ]
  }
 ],
 "metadata": {
  "kernelspec": {
   "display_name": "Python 3 (ipykernel)",
   "language": "python",
   "name": "python3"
  },
  "language_info": {
   "codemirror_mode": {
    "name": "ipython",
    "version": 3
   },
   "file_extension": ".py",
   "mimetype": "text/x-python",
   "name": "python",
   "nbconvert_exporter": "python",
   "pygments_lexer": "ipython3",
   "version": "3.12.4"
  }
 },
 "nbformat": 4,
 "nbformat_minor": 5
}
