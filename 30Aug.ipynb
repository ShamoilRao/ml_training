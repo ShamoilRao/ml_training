{
 "cells": [
  {
   "cell_type": "markdown",
   "id": "be1139ff-ad63-44c3-b43a-5d455ef96d13",
   "metadata": {},
   "source": [
    "# Naive Bayes algorithm\n",
    "\n",
    "1. Bayes theorm\n",
    "2. Conditional probability\n",
    "3. Naive Bayes algorithm relation with classification and regression.\n",
    "4. What do you mean by generative learning process?\n",
    "5. Justify the statement \"Naive Bayes algorithm belongs to generative technique\".\n",
    "6. What is the difference between __logistics regression__ and  __Naive Bayes algorithm__ in context to generative learning?\n",
    "7. Senarios where we can apply Naive Bayes technique.\n",
    "8. Find mathematics behind naive bayes algorithm. "
   ]
  },
  {
   "cell_type": "code",
   "execution_count": null,
   "id": "63ee1838-f3bc-4648-ab41-8f4816315775",
   "metadata": {},
   "outputs": [],
   "source": []
  }
 ],
 "metadata": {
  "kernelspec": {
   "display_name": "Python 3 (ipykernel)",
   "language": "python",
   "name": "python3"
  },
  "language_info": {
   "codemirror_mode": {
    "name": "ipython",
    "version": 3
   },
   "file_extension": ".py",
   "mimetype": "text/x-python",
   "name": "python",
   "nbconvert_exporter": "python",
   "pygments_lexer": "ipython3",
   "version": "3.12.4"
  }
 },
 "nbformat": 4,
 "nbformat_minor": 5
}
