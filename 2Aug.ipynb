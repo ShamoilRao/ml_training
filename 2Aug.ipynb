{
 "cells": [
  {
   "cell_type": "markdown",
   "id": "1d5a0e13-fdd2-4a8d-8ef4-32603d4f0ed0",
   "metadata": {},
   "source": [
    "# Hypothesis testing\n",
    "\n",
    "1. Null Hypothesis ($H_0$)\n",
    "2. Alternate Hypothesis ($H_a$)\n",
    "\n",
    "- Null mutually exclusive to alternate\n",
    "\n",
    "- Perform test and its result will show which hypothesis is correct null or alternate. \n",
    "__Either null or alternate hypothsis is true.__\n",
    "\n",
    "\n",
    "- The analysis plan that describes how to use sample data to evaluate null hypothesis\n",
    "\n",
    "- Analysing sample data using t -statistics z-score p-test chi-test\n",
    "\n",
    "- Interpret results\n",
    "\n",
    "- Apply the decision rule describe in the analysing plan. If the value of the test statiscs is unlikely, based on the null hypothesis reject the null hypothesis."
   ]
  },
  {
   "cell_type": "markdown",
   "id": "1508c52e-02b5-4cce-bb74-db310e149629",
   "metadata": {},
   "source": [
    "## Error in hypothesis test\n",
    "\n",
    "- __Type I error__: Null hypothesis rejected while it is true.\n",
    "- __Type II error__: Null hypothesis was accepted while it is false."
   ]
  },
  {
   "cell_type": "markdown",
   "id": "34a8500a-010f-4a04-8cfd-70d30bf978bf",
   "metadata": {},
   "source": [
    "__Question 1__ perform hypothesis test to determine if there is a signifacnt difference between means of two independent sample values\n",
    "\n",
    "_Situation:_ Suppose data analyst at company bounds to compare effectiveness of two differnt training programs on employees' performance. Programs are:\n",
    "- program A\n",
    "- program B\n",
    "\n",
    "We already have performance score of the employees.\n",
    "\n",
    "\n",
    "__Step 1:__ Define null and alternate hypothesis\n",
    "\n",
    "$H_0$: The mean of two groups are equal.\n",
    "$H_a$: The mean of two groups are not equal.\n",
    "\n",
    "__Step 2:__ Perform test. "
   ]
  },
  {
   "cell_type": "code",
   "execution_count": 2,
   "id": "9e314ded-8876-4b1f-818c-f24ed98bf6e3",
   "metadata": {},
   "outputs": [],
   "source": [
    "import numpy, scipy.stats"
   ]
  },
  {
   "cell_type": "code",
   "execution_count": 4,
   "id": "4dd7660a-d09c-45e2-afae-b00f092d8478",
   "metadata": {},
   "outputs": [],
   "source": [
    "each element shows \n",
    "scores_program_A = [88, 92, 85, 91, 87, 90, 89, 94, 91, 86]\n",
    "scores_program_B = [82, 79, 88, 85, 87, 84, 80, 83, 86, 81]"
   ]
  },
  {
   "cell_type": "markdown",
   "id": "aeedf2cb-b14e-4ea5-8f1b-8b5752bce4e5",
   "metadata": {},
   "source": [
    "## T-test\n"
   ]
  },
  {
   "cell_type": "code",
   "execution_count": 7,
   "id": "24f7725f-6823-44f2-9e3f-d81a0a6ffb04",
   "metadata": {},
   "outputs": [
    {
     "name": "stdout",
     "output_type": "stream",
     "text": [
      "T-statistic:  4.4253\n",
      "P-value:  0.0003\n",
      "Reject the null hypothesis. There is significatn difference between the means between two programs\n"
     ]
    }
   ],
   "source": [
    "t_statistics, p_value = scipy.stats.ttest_ind(scores_program_A, scores_program_B)\n",
    "\n",
    "print(f\"T-statistic: {t_statistics: .4f}\")\n",
    "print(f\"P-value: {p_value: .4f}\")\n",
    "\n",
    "# p_value is significance level\n",
    "alpha  = 0.05\n",
    "\n",
    "if p_value < alpha:\n",
    "    print(\"Reject the null hypothesis. There is significatn difference between the means between two programs\")\n",
    "else:\n",
    "    print(\"Null hypotheis accepted There is no significant differnce beteen the neams of the two programs\")"
   ]
  },
  {
   "cell_type": "code",
   "execution_count": null,
   "id": "e3c9f610-c90b-4d77-a3eb-d8e3b47fac68",
   "metadata": {},
   "outputs": [],
   "source": [
    "### Task\n",
    "create csv file wtih 1000 records\n",
    "program to read csv file suffule all records and create two csv file where one should have 70% of records and aother should have 30%."
   ]
  },
  {
   "cell_type": "code",
   "execution_count": null,
   "id": "b311ee61-a61c-4435-a712-bee30f942f2c",
   "metadata": {},
   "outputs": [],
   "source": [
    "# create a csv file with 1000 reacords \n",
    "\n",
    "age = numpy.random.randint(10, 101, size = 1000)\n",
    "gender = numpy.random.randint(0,2, size = 1000)\n",
    "height = numpy.random.randint(160, 188, size = 1000)\n",
    "\n"
   ]
  }
 ],
 "metadata": {
  "kernelspec": {
   "display_name": "Python 3 (ipykernel)",
   "language": "python",
   "name": "python3"
  },
  "language_info": {
   "codemirror_mode": {
    "name": "ipython",
    "version": 3
   },
   "file_extension": ".py",
   "mimetype": "text/x-python",
   "name": "python",
   "nbconvert_exporter": "python",
   "pygments_lexer": "ipython3",
   "version": "3.12.4"
  }
 },
 "nbformat": 4,
 "nbformat_minor": 5
}
