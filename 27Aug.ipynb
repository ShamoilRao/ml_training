{
 "cells": [
  {
   "cell_type": "markdown",
   "id": "36d72c65-2300-40f3-813d-a571b5a92ee5",
   "metadata": {},
   "source": [
    "# Decision Tree"
   ]
  },
  {
   "cell_type": "markdown",
   "id": "86fcc379-7720-4b55-8660-673a51735b63",
   "metadata": {},
   "source": [
    "Decision tree is used when dataset is unordered.\n",
    "- __Sensitive to outliner__\n",
    "\n",
    "## Types of decision tree\n",
    "1. ID3 (use concept of entropy to split data)\n",
    "2. C4.5 (imporoved version of ID3)\n",
    "3. CART(gini imputirity)\n",
    "\n",
    "## Key points\n",
    "\n",
    "- Entropy\n",
    "- Information gain\n",
    "- gini index\n",
    "-__Data Pruning__ the process of removing or cutting down specific nodes in a specifg tree to prevent overfitting and simpolify the model.\n",
    "\n",
    "\n",
    "Degree of overfitting is directly proportional to model complexity\n",
    "\n",
    "## Assumption\n",
    "- Binary split\n",
    "- Recursive Partitioning\n",
    "- Feature are independent(by calculating co relation coefficient)\n",
    "- Top down greedy approach: each split is choosen to maximise information gain at current node.\n",
    "- Overfitting\n",
    "- No missting values"
   ]
  },
  {
   "cell_type": "markdown",
   "id": "d18c001f-2704-4e60-b4d2-3f45d5724880",
   "metadata": {},
   "source": [
    "## Entropy\n",
    "\n",
    "$$ E(S) = -\\sum_{i-1}^{n} p_{x_i} \\log{(p_{x_i})}$$\n",
    "\n",
    "- $x_i$ is ith feature\n",
    "- $n$ is no. of features\n",
    "- $S$ is state\n",
    "\n",
    "__Note:__ entropy directly proportional to no. of features"
   ]
  },
  {
   "cell_type": "markdown",
   "id": "6f931569-87fa-4653-972c-0a84661b06e1",
   "metadata": {},
   "source": [
    "## Information gain\n",
    "\n",
    "Measure reduction of uncertainy\n",
    "\n",
    "$$ \\text{Information gain} = E(Y) - E(Y|feature) $$"
   ]
  },
  {
   "cell_type": "code",
   "execution_count": 5,
   "id": "b27f3ee3-dcb2-4887-bec1-64199e0fe1cf",
   "metadata": {},
   "outputs": [],
   "source": [
    "import numpy as np "
   ]
  },
  {
   "cell_type": "code",
   "execution_count": 7,
   "id": "1b6b20ad-c288-47a1-9124-e23a0766b6a6",
   "metadata": {},
   "outputs": [
    {
     "data": {
      "text/plain": [
       "0.9402859586706311"
      ]
     },
     "execution_count": 7,
     "metadata": {},
     "output_type": "execute_result"
    }
   ],
   "source": [
    "- (9/14)*np.log2(9/14)-(5/ 14)*np.log2(5/14)"
   ]
  },
  {
   "cell_type": "code",
   "execution_count": 9,
   "id": "3bc285c6-e46c-4f96-a76a-b5f8cc3656a3",
   "metadata": {},
   "outputs": [
    {
     "data": {
      "text/plain": [
       "0.8812908992306927"
      ]
     },
     "execution_count": 9,
     "metadata": {},
     "output_type": "execute_result"
    }
   ],
   "source": [
    "-(7/10) * np.log2(7/10) - (3/10) * np.log2(3/10)"
   ]
  }
 ],
 "metadata": {
  "kernelspec": {
   "display_name": "Python 3 (ipykernel)",
   "language": "python",
   "name": "python3"
  },
  "language_info": {
   "codemirror_mode": {
    "name": "ipython",
    "version": 3
   },
   "file_extension": ".py",
   "mimetype": "text/x-python",
   "name": "python",
   "nbconvert_exporter": "python",
   "pygments_lexer": "ipython3",
   "version": "3.12.4"
  }
 },
 "nbformat": 4,
 "nbformat_minor": 5
}
