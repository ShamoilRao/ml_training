{
 "cells": [
  {
   "cell_type": "markdown",
   "id": "cfe19d3d-1f9f-43e9-afc2-312580050461",
   "metadata": {},
   "source": [
    "# Types of encodings\n",
    "1. one-hot encoding\n",
    "2. Binary encoding\n",
    "3. Frequecy encoding\n",
    "4. Hash encoding\n",
    "5. Dummy encoding"
   ]
  },
  {
   "cell_type": "code",
   "execution_count": 3,
   "id": "3ecde9b9-ac1b-4fb8-bc71-3352d875947f",
   "metadata": {},
   "outputs": [],
   "source": [
    "import pandas, sklearn, numpy"
   ]
  },
  {
   "cell_type": "code",
   "execution_count": 4,
   "id": "f35a0bd6-e36b-4912-ac28-a468b4daacf2",
   "metadata": {},
   "outputs": [
    {
     "data": {
      "text/html": [
       "<div>\n",
       "<style scoped>\n",
       "    .dataframe tbody tr th:only-of-type {\n",
       "        vertical-align: middle;\n",
       "    }\n",
       "\n",
       "    .dataframe tbody tr th {\n",
       "        vertical-align: top;\n",
       "    }\n",
       "\n",
       "    .dataframe thead th {\n",
       "        text-align: right;\n",
       "    }\n",
       "</style>\n",
       "<table border=\"1\" class=\"dataframe\">\n",
       "  <thead>\n",
       "    <tr style=\"text-align: right;\">\n",
       "      <th></th>\n",
       "      <th>Country</th>\n",
       "      <th>Age</th>\n",
       "      <th>Salary</th>\n",
       "      <th>Purchased</th>\n",
       "    </tr>\n",
       "  </thead>\n",
       "  <tbody>\n",
       "    <tr>\n",
       "      <th>0</th>\n",
       "      <td>France</td>\n",
       "      <td>44.0</td>\n",
       "      <td>72000.0</td>\n",
       "      <td>No</td>\n",
       "    </tr>\n",
       "    <tr>\n",
       "      <th>1</th>\n",
       "      <td>Spain</td>\n",
       "      <td>27.0</td>\n",
       "      <td>48000.0</td>\n",
       "      <td>Yes</td>\n",
       "    </tr>\n",
       "    <tr>\n",
       "      <th>2</th>\n",
       "      <td>Germany</td>\n",
       "      <td>30.0</td>\n",
       "      <td>54000.0</td>\n",
       "      <td>No</td>\n",
       "    </tr>\n",
       "    <tr>\n",
       "      <th>3</th>\n",
       "      <td>Spain</td>\n",
       "      <td>38.0</td>\n",
       "      <td>61000.0</td>\n",
       "      <td>No</td>\n",
       "    </tr>\n",
       "    <tr>\n",
       "      <th>4</th>\n",
       "      <td>Germany</td>\n",
       "      <td>40.0</td>\n",
       "      <td>NaN</td>\n",
       "      <td>Yes</td>\n",
       "    </tr>\n",
       "    <tr>\n",
       "      <th>5</th>\n",
       "      <td>France</td>\n",
       "      <td>35.0</td>\n",
       "      <td>58000.0</td>\n",
       "      <td>Yes</td>\n",
       "    </tr>\n",
       "    <tr>\n",
       "      <th>6</th>\n",
       "      <td>Spain</td>\n",
       "      <td>NaN</td>\n",
       "      <td>52000.0</td>\n",
       "      <td>No</td>\n",
       "    </tr>\n",
       "    <tr>\n",
       "      <th>7</th>\n",
       "      <td>France</td>\n",
       "      <td>48.0</td>\n",
       "      <td>79000.0</td>\n",
       "      <td>Yes</td>\n",
       "    </tr>\n",
       "    <tr>\n",
       "      <th>8</th>\n",
       "      <td>Germany</td>\n",
       "      <td>50.0</td>\n",
       "      <td>83000.0</td>\n",
       "      <td>No</td>\n",
       "    </tr>\n",
       "    <tr>\n",
       "      <th>9</th>\n",
       "      <td>France</td>\n",
       "      <td>37.0</td>\n",
       "      <td>67000.0</td>\n",
       "      <td>Yes</td>\n",
       "    </tr>\n",
       "  </tbody>\n",
       "</table>\n",
       "</div>"
      ],
      "text/plain": [
       "   Country   Age   Salary Purchased\n",
       "0   France  44.0  72000.0        No\n",
       "1    Spain  27.0  48000.0       Yes\n",
       "2  Germany  30.0  54000.0        No\n",
       "3    Spain  38.0  61000.0        No\n",
       "4  Germany  40.0      NaN       Yes\n",
       "5   France  35.0  58000.0       Yes\n",
       "6    Spain   NaN  52000.0        No\n",
       "7   France  48.0  79000.0       Yes\n",
       "8  Germany  50.0  83000.0        No\n",
       "9   France  37.0  67000.0       Yes"
      ]
     },
     "execution_count": 4,
     "metadata": {},
     "output_type": "execute_result"
    }
   ],
   "source": [
    "data = pandas.read_csv('data/7Aug(2).csv')\n",
    "data"
   ]
  },
  {
   "cell_type": "code",
   "execution_count": 5,
   "id": "a62d4b56-1bc8-4301-963b-a778552799fb",
   "metadata": {},
   "outputs": [
    {
     "name": "stdout",
     "output_type": "stream",
     "text": [
      "<class 'pandas.core.frame.DataFrame'>\n",
      "RangeIndex: 10 entries, 0 to 9\n",
      "Data columns (total 4 columns):\n",
      " #   Column     Non-Null Count  Dtype  \n",
      "---  ------     --------------  -----  \n",
      " 0   Country    10 non-null     object \n",
      " 1   Age        9 non-null      float64\n",
      " 2   Salary     9 non-null      float64\n",
      " 3   Purchased  10 non-null     object \n",
      "dtypes: float64(2), object(2)\n",
      "memory usage: 452.0+ bytes\n"
     ]
    }
   ],
   "source": [
    "data.info()"
   ]
  },
  {
   "cell_type": "code",
   "execution_count": 6,
   "id": "44602440-18b3-480e-8256-1af5cad61bdf",
   "metadata": {},
   "outputs": [],
   "source": [
    "X = data.iloc[:, :-1]\n",
    "y = data.iloc[:, -1]"
   ]
  },
  {
   "cell_type": "code",
   "execution_count": 7,
   "id": "26cdf67d-d621-4396-92b1-b64ee7917170",
   "metadata": {},
   "outputs": [
    {
     "name": "stdout",
     "output_type": "stream",
     "text": [
      "X.info: \n",
      "\n",
      "<class 'pandas.core.frame.DataFrame'>\n",
      "RangeIndex: 10 entries, 0 to 9\n",
      "Data columns (total 3 columns):\n",
      " #   Column   Non-Null Count  Dtype  \n",
      "---  ------   --------------  -----  \n",
      " 0   Country  10 non-null     object \n",
      " 1   Age      9 non-null      float64\n",
      " 2   Salary   9 non-null      float64\n",
      "dtypes: float64(2), object(1)\n",
      "memory usage: 372.0+ bytes\n",
      "\n",
      "\n",
      "y.info: \n",
      "\n",
      "<class 'pandas.core.series.Series'>\n",
      "RangeIndex: 10 entries, 0 to 9\n",
      "Series name: Purchased\n",
      "Non-Null Count  Dtype \n",
      "--------------  ----- \n",
      "10 non-null     object\n",
      "dtypes: object(1)\n",
      "memory usage: 212.0+ bytes\n"
     ]
    }
   ],
   "source": [
    "print(\"X.info: \\n\")\n",
    "X.info()\n",
    "\n",
    "print(\"\\n\")\n",
    "print(\"y.info: \\n\")\n",
    "y.info()"
   ]
  },
  {
   "cell_type": "code",
   "execution_count": 8,
   "id": "bfdaefd5-4d34-4fda-96d2-4b6891d49fb2",
   "metadata": {},
   "outputs": [
    {
     "name": "stdout",
     "output_type": "stream",
     "text": [
      "X_train.shape: (7, 3)\n",
      "X_train.shape: (3, 3)\n",
      "X_train.shape: (7,)\n",
      "X_train.shape: (3,)\n"
     ]
    }
   ],
   "source": [
    "from sklearn.model_selection import train_test_split\n",
    "X_train, X_test, y_train, y_test = train_test_split(X, y, test_size=0.3)\n",
    "\n",
    "print(f\"X_train.shape: {X_train.shape}\")\n",
    "print(f\"X_train.shape: {X_test.shape}\")\n",
    "print(f\"X_train.shape: {y_train.shape}\")\n",
    "print(f\"X_train.shape: {y_test.shape}\")"
   ]
  },
  {
   "cell_type": "markdown",
   "id": "dadfb8c0-9d01-41d2-a9bf-349eaaf4aa40",
   "metadata": {},
   "source": [
    "## Handling of missing data\n",
    "\n"
   ]
  },
  {
   "cell_type": "code",
   "execution_count": 20,
   "id": "2b667317-d34f-4678-80d1-0c787d7533cb",
   "metadata": {},
   "outputs": [
    {
     "name": "stdout",
     "output_type": "stream",
     "text": [
      "SimpleImputer(missing_values=<NA>)\n"
     ]
    }
   ],
   "source": [
    "from sklearn.impute import SimpleImputer\n",
    "numericdataset=data.select_dtypes(include=['number'])\n",
    "\n",
    "imp_mean = SimpleImputer(missing_values=pandas.NA, strategy='mean')\n",
    "\n",
    "# print(f\"fit method: {}\")\n",
    "fit_temp = imp_mean.fit(numericdataset)\n",
    "X_train_temp = imp_mean.transform(numericdataset)\n",
    "\n",
    "X_train_temp\n",
    "print(fit_temp)"
   ]
  },
  {
   "cell_type": "markdown",
   "id": "1aa7d1a3-0411-4d8f-87a2-ddac1069eb90",
   "metadata": {},
   "source": [
    "## Encoding of categorical data\n",
    "\n",
    "There are two ways of encoding used depending on types of variable\n",
    "- Independent variables(one hot)\n",
    "- Dependent variable (label encoding)"
   ]
  },
  {
   "cell_type": "markdown",
   "id": "7d471880-355b-4fc7-a784-8e985510d730",
   "metadata": {},
   "source": [
    "### Independent variable\n",
    "\n",
    "- using compose package of sklearn library\n",
    "- use reference of class column tranformer"
   ]
  },
  {
   "cell_type": "code",
   "execution_count": 24,
   "id": "633dfd11-0682-4bb6-a939-00bac25f5d28",
   "metadata": {},
   "outputs": [
    {
     "name": "stdout",
     "output_type": "stream",
     "text": [
      "passthrough: \n",
      "[[1.0 0.0 0.0 44.0 72000.0 'No']\n",
      " [0.0 0.0 1.0 27.0 48000.0 'Yes']\n",
      " [0.0 1.0 0.0 30.0 54000.0 'No']\n",
      " [0.0 0.0 1.0 38.0 61000.0 'No']\n",
      " [0.0 1.0 0.0 40.0 nan 'Yes']\n",
      " [1.0 0.0 0.0 35.0 58000.0 'Yes']\n",
      " [0.0 0.0 1.0 nan 52000.0 'No']\n",
      " [1.0 0.0 0.0 48.0 79000.0 'Yes']\n",
      " [0.0 1.0 0.0 50.0 83000.0 'No']\n",
      " [1.0 0.0 0.0 37.0 67000.0 'Yes']]\n",
      "drop: \n",
      "[[1. 0. 0.]\n",
      " [0. 0. 1.]\n",
      " [0. 1. 0.]\n",
      " [0. 0. 1.]\n",
      " [0. 1. 0.]\n",
      " [1. 0. 0.]\n",
      " [0. 0. 1.]\n",
      " [1. 0. 0.]\n",
      " [0. 1. 0.]\n",
      " [1. 0. 0.]]\n"
     ]
    }
   ],
   "source": [
    "from sklearn.compose import ColumnTransformer\n",
    "from sklearn.preprocessing import OneHotEncoder\n",
    "\n",
    "# Define the ColumnTransformer with a list of transformers\n",
    "ct = ColumnTransformer(\n",
    "    transformers=[('encoder', OneHotEncoder(), [0])],\n",
    "    remainder='passthrough'\n",
    ")\n",
    "\n",
    "# Fit the transformer to the training data\n",
    "\n",
    "\n",
    "X_train_temp = numpy.array(ct.fit_transform(data))\n",
    "\n",
    "print(f\"passthrough: \\n{X_train_temp}\")\n",
    "\n",
    "\n",
    "ct = ColumnTransformer(\n",
    "    transformers=[('encoder', OneHotEncoder(), [0])],\n",
    "    remainder='drop'\n",
    ")\n",
    "\n",
    "# Fit the transformer to the training data\n",
    "\n",
    "\n",
    "# Transform the training data and convert it to a numpy array\n",
    "X_train_temp = numpy.array(ct.fit_transform(data))\n",
    "\n",
    "X_train_temp\n",
    "\n",
    "print(f\"drop: \\n{X_train_temp}\")"
   ]
  },
  {
   "cell_type": "code",
   "execution_count": null,
   "id": "b9d43d24",
   "metadata": {},
   "outputs": [],
   "source": []
  }
 ],
 "metadata": {
  "kernelspec": {
   "display_name": "Python 3 (ipykernel)",
   "language": "python",
   "name": "python3"
  },
  "language_info": {
   "codemirror_mode": {
    "name": "ipython",
    "version": 3
   },
   "file_extension": ".py",
   "mimetype": "text/x-python",
   "name": "python",
   "nbconvert_exporter": "python",
   "pygments_lexer": "ipython3",
   "version": "3.12.4"
  }
 },
 "nbformat": 4,
 "nbformat_minor": 5
}
